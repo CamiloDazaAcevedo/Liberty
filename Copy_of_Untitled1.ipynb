{
  "nbformat": 4,
  "nbformat_minor": 0,
  "metadata": {
    "colab": {
      "name": "Copy of Untitled1.ipynb",
      "provenance": [],
      "authorship_tag": "ABX9TyO5GNQMMy2kEZWQkV3coyfb",
      "include_colab_link": true
    },
    "kernelspec": {
      "name": "python3",
      "display_name": "Python 3"
    }
  },
  "cells": [
    {
      "cell_type": "markdown",
      "metadata": {
        "id": "view-in-github",
        "colab_type": "text"
      },
      "source": [
        "<a href=\"https://colab.research.google.com/github/CamiloDazaAcevedo/Liberty/blob/master/Copy_of_Untitled1.ipynb\" target=\"_parent\"><img src=\"https://colab.research.google.com/assets/colab-badge.svg\" alt=\"Open In Colab\"/></a>"
      ]
    },
    {
      "cell_type": "code",
      "metadata": {
        "id": "AlXyH5h4H4gI",
        "colab_type": "code",
        "colab": {
          "base_uri": "https://localhost:8080/",
          "height": 129
        },
        "outputId": "0cf1569f-20e2-4074-c22d-0809fbe69b7c"
      },
      "source": [
        "import pandas as pd\n",
        "import pyplot.offline as py\n",
        "url='https://raw.githubusercontent.com/CamiloDazaAcevedo/Liberty/2e8067e392e962112af1427ff7b7a0df1c7197a8/Consumo.csv'\n",
        "df=pd.read_csv(url)\n",
        "print(df.head(5))\n",
        "#Promedio de consumo de hogar en 2008\n",
        "df.iloc['Global_reactive_power'].mean()\n",
        "#Gráfica de consumo \n",
        "py.iplot([{\n",
        "    'X':df.iloc['Date']\n",
        "    'Y':df.loc['Global_reactive_power']\n",
        "    'name'=col\n",
        "} for col in df.columns])\n",
        "\n"
      ],
      "execution_count": null,
      "outputs": [
        {
          "output_type": "error",
          "ename": "SyntaxError",
          "evalue": "ignored",
          "traceback": [
            "\u001b[0;36m  File \u001b[0;32m\"<ipython-input-7-d12a6eadc281>\"\u001b[0;36m, line \u001b[0;32m11\u001b[0m\n\u001b[0;31m    'Y':df['Global_reactive_power']\u001b[0m\n\u001b[0m      ^\u001b[0m\n\u001b[0;31mSyntaxError\u001b[0m\u001b[0;31m:\u001b[0m invalid syntax\n"
          ]
        }
      ]
    }
  ]
}